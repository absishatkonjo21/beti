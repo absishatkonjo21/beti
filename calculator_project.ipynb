{
 "cells": [
  {
   "cell_type": "code",
   "execution_count": 42,
   "id": "57227989",
   "metadata": {},
   "outputs": [
    {
     "name": "stdout",
     "output_type": "stream",
     "text": [
      "standard calculator\n",
      "5.0+5.0 = 10.0\n",
      "please enter the number only\n",
      "54.0+5.0+5.0 = 64.0\n",
      "Exiting calculator\n",
      "Developed by Beti\n"
     ]
    }
   ],
   "source": [
    "\n",
    "def calculator():\n",
    "    print(\"standard calculator\")\n",
    "    try:\n",
    "        while True:\n",
    "            oprator = input(\"Enter the oprators [+,-,*,/,** and exit]\")\n",
    "            if oprator.lower().strip() == \"exit\":\n",
    "                print(\"Exiting calculator\")\n",
    "                break\n",
    "            list_oprator = ['+','-','*','/','**']\n",
    "            if oprator not in list_oprator:\n",
    "                print(\"please the correct operator\")\n",
    "                continue\n",
    "            numbers = []\n",
    "            while True:\n",
    "                number = input(\"please enter the number or = sign to calculat the number\")\n",
    "                if number == \"=\":\n",
    "                    if len(numbers)<2:\n",
    "                        print(\"please enter atleast 2 numbers\")\n",
    "                        continue\n",
    "                    break\n",
    "                try:\n",
    "                    num = float(number)\n",
    "                    numbers.append(num)\n",
    "                except ValueError:\n",
    "                    print(\"please enter the number only\")\n",
    "                    continue\n",
    "                \"\"\"performing different arthimetic oprations\n",
    "                after performing arthimrtic\n",
    "                oprations we have to store variable\"\"\"\n",
    "            if oprator == \"+\":\n",
    "                result = numbers[0]\n",
    "                for number in numbers[1:]:\n",
    "                    result = result + number\n",
    "                print(\"+\".join(map(str, numbers)) + f\" = {result}\")\n",
    "            elif oprator == \"*\":\n",
    "                result = numbers[0]\n",
    "                for number in numbers[1:]:\n",
    "                    result = result * number\n",
    "                print(\"*\".join(map(str,numbers)) + f\" = {result}\")\n",
    "            elif oprator == \"/\":\n",
    "                result = numbers[0]\n",
    "                for number in numbers[1:]:\n",
    "                    try:\n",
    "                        if number == 0:\n",
    "                             raise ZeroDivisionError()\n",
    "                             result = result / number\n",
    "                    except ZeroDivisionError:\n",
    "                        print(\"denominator can not be zero \")\n",
    "                        continue \n",
    "                print(\"/\".join(map(str,numbers))+ f\" = {result}\")    \n",
    "            elif oprator == \"-\":\n",
    "                result = numbers[0]\n",
    "                for number in numbers[1:]:\n",
    "                    result = result - number\n",
    "                print(\"-\".join(map(str,numbers))+ f\" = {result}\") \n",
    "            elif oprator == \"**\":\n",
    "                result = numbers[0]\n",
    "                for number in numbers[1:]:\n",
    "                    result = result ** number\n",
    "                print(\"**\".join(map(str,numbers))+ f\" = {result}\")            \n",
    "    except Exception as e:\n",
    "        print(f\"operation faild! {e}\")\n",
    "    print(\"Developed by Beti\")\n",
    "calculator()"
   ]
  }
 ],
 "metadata": {
  "kernelspec": {
   "display_name": "Python 3",
   "language": "python",
   "name": "python3"
  },
  "language_info": {
   "codemirror_mode": {
    "name": "ipython",
    "version": 3
   },
   "file_extension": ".py",
   "mimetype": "text/x-python",
   "name": "python",
   "nbconvert_exporter": "python",
   "pygments_lexer": "ipython3",
   "version": "3.13.5"
  }
 },
 "nbformat": 4,
 "nbformat_minor": 5
}
